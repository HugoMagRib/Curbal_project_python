{
  "nbformat": 4,
  "nbformat_minor": 0,
  "metadata": {
    "colab": {
      "provenance": [],
      "authorship_tag": "ABX9TyOI9HOzHtb/AfnoMD4mpI+K",
      "include_colab_link": true
    },
    "kernelspec": {
      "name": "python3",
      "display_name": "Python 3"
    },
    "language_info": {
      "name": "python"
    }
  },
  "cells": [
    {
      "cell_type": "markdown",
      "metadata": {
        "id": "view-in-github",
        "colab_type": "text"
      },
      "source": [
        "<a href=\"https://colab.research.google.com/github/HugoMagRib/Curbal_project_python/blob/main/jogo_detetive.ipynb\" target=\"_parent\"><img src=\"https://colab.research.google.com/assets/colab-badge.svg\" alt=\"Open In Colab\"/></a>"
      ]
    },
    {
      "cell_type": "markdown",
      "source": [],
      "metadata": {
        "id": "vKI5q7Nn1F4u"
      }
    },
    {
      "cell_type": "code",
      "execution_count": 23,
      "metadata": {
        "colab": {
          "base_uri": "https://localhost:8080/"
        },
        "id": "AZ35Fc851A-P",
        "outputId": "123a475b-b139-4387-aca3-177e349bc491"
      },
      "outputs": [
        {
          "output_type": "stream",
          "name": "stdout",
          "text": [
            "UM crime aconteceu e o Laboratorio curbal de crimes (LCC) precisa da sua ajuda.\n",
            "\n",
            " O crime é um assasinato que ocorreu em algum momento em 15 de janeiro de 2018.,\n",
            " e um analista criminal ou curbalista é como chamamos aqui na LCC,\n",
            " é necessario para ajudar a resolver o caso.\n",
            "\n",
            " todos o arquivos do crime serão mostrados para voce, mas antes nos fazemos isso:\n",
            "\n",
            "Você aceita o desafio? (sim/nao) não\n",
            "Apenas respostas como SIM ou NAO são permitidas, por favor tente novemente.\n",
            "\n",
            "Você aceita o desafio? (sim/nao) sim\n",
            "Qual o seu nome?hugo\n",
            "OI Hugo\n"
          ]
        }
      ],
      "source": [
        "#introduçao e uma breve explicação do caso\n",
        "def intro():\n",
        "  print(\"UM crime aconteceu e o Laboratorio curbal de crimes (LCC) precisa da sua ajuda.\\n\"\n",
        "  \"\\n O crime é um assasinato que ocorreu em algum momento em 15 de janeiro de 2018.,\\n\"\n",
        "  \" e um analista criminal ou curbalista é como chamamos aqui na LCC,\\n \"\n",
        "  \"é necessario para ajudar a resolver o caso.\\n\"\n",
        "  \n",
        "  \"\\n todos o arquivos do crime serão mostrados para voce, mas antes nos fazemos isso:\\n\")\n",
        "\n",
        "# função para definir quem é o usuario e se ele esta afim de jogar\n",
        "def usuario():\n",
        "  while True: # while para garantir que a resposta seja somente sim ou não\n",
        "    Accept_challenger = input(\"Você aceita o desafio? (sim/nao) \")\n",
        "\n",
        "    if Accept_challenger.lower().strip() != \"sim\" and Accept_challenger.lower().strip() != \"nao\":\n",
        "      print(\"Apenas respostas como SIM ou NAO são permitidas, por favor tente novemente.\\n\")\n",
        "      continue\n",
        "    else:\n",
        "      break\n",
        "  if Accept_challenger.lower().strip() == \"sim\":# garantido que a resposta seja sempre minuscula e sem espaços\n",
        "    participant = input(\"Qual o seu nome?\")\n",
        "    print(\"OI \"+participant.title())\n",
        "  elif Accept_challenger.lower().strip() == \"nao\":\n",
        "    print(\"OK, Tchau\")\n",
        "intro()\n",
        "usuario()\n",
        "\n"
      ]
    },
    {
      "cell_type": "code",
      "source": [],
      "metadata": {
        "id": "AbBFrDEs55IT"
      },
      "execution_count": null,
      "outputs": []
    }
  ]
}